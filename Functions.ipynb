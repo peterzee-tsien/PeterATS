{
 "cells": [
  {
   "cell_type": "code",
   "execution_count": 2,
   "metadata": {
    "collapsed": true
   },
   "outputs": [],
   "source": [
    "import PyPDF2\n",
    "import re"
   ]
  },
  {
   "cell_type": "code",
   "execution_count": 3,
   "outputs": [
    {
     "name": "stdout",
     "output_type": "stream",
     "text": [
      "1\n",
      "SUHENG(PETER) QIAN\n",
      "Montr ´eal, QC, Canada (438)-926-0615 Email : ptqmtl117@gmail.com\n",
      "LinkedIn : https://www.linkedin.com/in/peter-suheng-qian/ GitHub : https://github.com/peterzee-tsien/\n",
      "EDUCATION\n",
      "Concordia University Jun 2023- Sep 2023\n",
      "Data Science Diploma\n",
      "Relevant Coursework: Predictive Modelling, Regression Analysis, Statistical Analysis, Database, Data Visualization,\n",
      "Machine Learning, Microservice Deployment, Data Engineering, Web Development\n",
      "McGill University Sep 2018 - Dec 2022\n",
      "Bachelor of Arts (Double Major in Computer Science and Linguistics)\n",
      "Relevant Coursework: Algorithm and Data Structures, Natural Language Processing, Machine Learning, Computa-\n",
      "tional Linguistics, Probabilities, Linear Algebra, Data Analysis, Functional Programming, Syntax, Semantics\n",
      "SKILLS\n",
      "Languages : English, Mandarin, Cantonese, French\n",
      "Programming : Python, Java, C, C#, C++, R, Clojure, SQL, OCaml, Javascript, CSS, HTML\n",
      "Software & Tools : MS Office, Tableau, Praat, Linux, Bash, Git, Kubernetes, Flask\n",
      "Libraries : Pytorch, Tensorflow, HuggingFace, Scikit-learn, NumPy, matplotlib, pandas, ggplot, React, Django\n",
      "Interests : Machine Learning, Data Analysis, Natural Language Processing, Cloud Development, MLOps\n",
      "RESEARCH & PROJECT\n",
      "DermaPredict, Concordia University Aug 2023 - Sep 2023\n",
      "• A fully deployable micro-service powered by PyTorch and Flask for the pre-screening of skin cancer.\n",
      "• Offered a personalized approach with telemedicine\n",
      "• https://github.com/peterzee-tsien/DermaPredict-Final-Project\n",
      "Genealogic Approach to Low-Resource Language Modelling in MILA, McGill University Jan 2022 - Apr 2022\n",
      "• Improved the performance of multilingual BERT on low resource languages on fine-tuned syntactic-related tasks\n",
      "from a Genealogic approach\n",
      "• Provided an alternative for researchers with limited amount of data and resources to pre-train the model\n",
      "• https://github.com/peterzee-tsien/LING484-COMP599-Final-Projects\n",
      "Comparative Studies of Rhymes in Cantonese and Mandarin, McGill University Sep 2021 - Dec 2021\n",
      "• Designed the first comparative perception studies to on rhymes of Cantonese speakers and Madarin speakers\n",
      "• Acquired programming skills in R and data analytics skills\n",
      "• Published on the peer-reviewed Orientation Journal https://shorturl.at/ipqsO\n",
      "CERTIFICATES\n",
      "IBM Full Stack Software Developer Certificate, IBM Skills Network Sep 2021 - Dec 2021\n",
      "• Completed multiple courses including cloud application development, web development, and more\n",
      "• Acquired working knowledge required for a full stack developer including front-end and back-end development\n",
      "Machine Learning Specialization, Stanford University/ DeepLearning.AI August 2022\n",
      "• Acquired a more comprehensive understanding of machine learning\n",
      "• Obtained hands-on experience with machine learning outside the scope of Natural Language Processing\n",
      "• Gained working knowledge with Tensorflow\n"
     ]
    }
   ],
   "source": [
    "# creating a pdf file object\n",
    "pdfFileObj = open('Post_revisioned Peter Qian.pdf', 'rb')\n",
    "\n",
    "# creating a pdf reader object\n",
    "pdfReader = PyPDF2.PdfReader(pdfFileObj)\n",
    "\n",
    "# printing number of pages in pdf file\n",
    "print(len(pdfReader.pages))\n",
    "\n",
    "# creating a page object\n",
    "pageObj = pdfReader.pages[0]\n",
    "\n",
    "# extracting text from page\n",
    "print(pageObj.extract_text())\n",
    "\n",
    "# closing the pdf file object\n",
    "pdfFileObj.close()\n"
   ],
   "metadata": {
    "collapsed": false
   }
  },
  {
   "cell_type": "code",
   "execution_count": null,
   "outputs": [],
   "source": [
    "def email_extraction(cv):\n",
    "    email_re=r'\\b[A-Za-z0-9._%+-]+@[A-Za-z0-9.-]+\\.[A-Z|a-z]{2,7}\\b'\n",
    "    if len(re.findall(email_re,cv))==0:\n",
    "        return 1\n",
    "    else:\n",
    "        return 0"
   ],
   "metadata": {
    "collapsed": false
   }
  },
  {
   "cell_type": "code",
   "execution_count": 4,
   "outputs": [
    {
     "name": "stdout",
     "output_type": "stream",
     "text": [
      "<class 'str'>\n"
     ]
    }
   ],
   "source": [
    "print(type(pageObj.extract_text()))"
   ],
   "metadata": {
    "collapsed": false
   }
  },
  {
   "cell_type": "code",
   "execution_count": 5,
   "outputs": [
    {
     "ename": "IndentationError",
     "evalue": "expected an indented block (1488921709.py, line 1)",
     "output_type": "error",
     "traceback": [
      "\u001B[1;36m  Cell \u001B[1;32mIn[5], line 1\u001B[1;36m\u001B[0m\n\u001B[1;33m    def tele_extraction(cv):\u001B[0m\n\u001B[1;37m                            ^\u001B[0m\n\u001B[1;31mIndentationError\u001B[0m\u001B[1;31m:\u001B[0m expected an indented block\n"
     ]
    }
   ],
   "source": [
    "def tele_extraction(cv):\n",
    "    '''\n",
    "    Args:\n",
    "        cv: the text of cv extracted from the pdf\n",
    "    Returns:\n",
    "        0 or 1: 1 if the phone number exists, 0 if otherwise\n",
    "    '''\n",
    "    return 0"
   ],
   "metadata": {
    "collapsed": false
   }
  },
  {
   "cell_type": "code",
   "execution_count": null,
   "outputs": [],
   "source": [
    "def calculate(cv):\n",
    "    total_score=0\n",
    "    if tele_extraction(cv)==1:\n",
    "        total_score+=25\n",
    "    if email_extraction(cv)==1:\n",
    "        total_score+=20\n"
   ],
   "metadata": {
    "collapsed": false
   }
  }
 ],
 "metadata": {
  "kernelspec": {
   "display_name": "Python 3",
   "language": "python",
   "name": "python3"
  },
  "language_info": {
   "codemirror_mode": {
    "name": "ipython",
    "version": 2
   },
   "file_extension": ".py",
   "mimetype": "text/x-python",
   "name": "python",
   "nbconvert_exporter": "python",
   "pygments_lexer": "ipython2",
   "version": "2.7.6"
  }
 },
 "nbformat": 4,
 "nbformat_minor": 0
}
